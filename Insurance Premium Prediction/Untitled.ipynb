{
 "cells": [
  {
   "cell_type": "code",
   "execution_count": 7,
   "id": "93334d5d",
   "metadata": {},
   "outputs": [
    {
     "name": "stdout",
     "output_type": "stream",
     "text": [
      "[2, 4, 6, 7, 45]\n"
     ]
    }
   ],
   "source": [
    "# sorting\n",
    "arr=[4,2,45,6,7]\n",
    "\n",
    "for i in range(0,len(arr)):\n",
    "    for j in range(i+1,len(arr)):\n",
    "        #print(f\"{arr[i]}>{arr[j]}\")\n",
    "        if arr[i]>arr[j]:\n",
    "            arr[i],arr[j]=arr[j],arr[i]\n",
    "            #print(arr)\n",
    "            \n",
    "        \n",
    "print(arr)"
   ]
  },
  {
   "cell_type": "code",
   "execution_count": 5,
   "id": "b12e60c2",
   "metadata": {},
   "outputs": [
    {
     "name": "stdout",
     "output_type": "stream",
     "text": [
      "[[0, 4], [2, 3]]\n"
     ]
    }
   ],
   "source": [
    "# find index of sum of 25 within array\n",
    "arr=[5,8,10,15,20,30]\n",
    "sum_val=0\n",
    "arr_index=[]\n",
    "for i in range(0,len(arr)):\n",
    "    for j in range(i+1,len(arr)):\n",
    "        sum_val=arr[i]+arr[j]\n",
    "        if sum_val==25:\n",
    "            arr_index.append([i,j])\n",
    "            break\n",
    "        else:\n",
    "            sum=0\n",
    "print(arr_index)\n",
    "        \n"
   ]
  },
  {
   "cell_type": "code",
   "execution_count": 24,
   "id": "cce0433d",
   "metadata": {},
   "outputs": [
    {
     "data": {
      "text/html": [
       "<div>\n",
       "<style scoped>\n",
       "    .dataframe tbody tr th:only-of-type {\n",
       "        vertical-align: middle;\n",
       "    }\n",
       "\n",
       "    .dataframe tbody tr th {\n",
       "        vertical-align: top;\n",
       "    }\n",
       "\n",
       "    .dataframe thead th {\n",
       "        text-align: right;\n",
       "    }\n",
       "</style>\n",
       "<table border=\"1\" class=\"dataframe\">\n",
       "  <thead>\n",
       "    <tr style=\"text-align: right;\">\n",
       "      <th></th>\n",
       "      <th>col1</th>\n",
       "      <th>col2</th>\n",
       "    </tr>\n",
       "  </thead>\n",
       "  <tbody>\n",
       "    <tr>\n",
       "      <th>0</th>\n",
       "      <td>1</td>\n",
       "      <td></td>\n",
       "    </tr>\n",
       "    <tr>\n",
       "      <th>1</th>\n",
       "      <td>4</td>\n",
       "      <td>144</td>\n",
       "    </tr>\n",
       "    <tr>\n",
       "      <th>2</th>\n",
       "      <td>9</td>\n",
       "      <td></td>\n",
       "    </tr>\n",
       "    <tr>\n",
       "      <th>3</th>\n",
       "      <td>16</td>\n",
       "      <td>196</td>\n",
       "    </tr>\n",
       "    <tr>\n",
       "      <th>4</th>\n",
       "      <td>25</td>\n",
       "      <td></td>\n",
       "    </tr>\n",
       "    <tr>\n",
       "      <th>5</th>\n",
       "      <td>36</td>\n",
       "      <td>256</td>\n",
       "    </tr>\n",
       "    <tr>\n",
       "      <th>6</th>\n",
       "      <td>49</td>\n",
       "      <td></td>\n",
       "    </tr>\n",
       "    <tr>\n",
       "      <th>7</th>\n",
       "      <td>64</td>\n",
       "      <td>324</td>\n",
       "    </tr>\n",
       "    <tr>\n",
       "      <th>8</th>\n",
       "      <td>81</td>\n",
       "      <td></td>\n",
       "    </tr>\n",
       "    <tr>\n",
       "      <th>9</th>\n",
       "      <td>100</td>\n",
       "      <td>400</td>\n",
       "    </tr>\n",
       "  </tbody>\n",
       "</table>\n",
       "</div>"
      ],
      "text/plain": [
       "   col1 col2\n",
       "0     1     \n",
       "1     4  144\n",
       "2     9     \n",
       "3    16  196\n",
       "4    25     \n",
       "5    36  256\n",
       "6    49     \n",
       "7    64  324\n",
       "8    81     \n",
       "9   100  400"
      ]
     },
     "execution_count": 24,
     "metadata": {},
     "output_type": "execute_result"
    }
   ],
   "source": [
    "import numpy as np\n",
    "import pandas as pd\n",
    "col1=np.array([[i,i+10] for i in range(1,11)])\n",
    "\n",
    "\n",
    "df=pd.DataFrame(col1,columns=[\"col1\",\"col2\"])\n",
    "\n",
    "\n",
    "df[\"col1\"]=df[\"col1\"]**2\n",
    "df[\"col2\"]=df[\"col2\"].apply(lambda x:x**2)\n",
    "df[\"col2\"]=df[\"col2\"].apply(lambda x:x if x%2==0 else \"\")\n",
    "df"
   ]
  },
  {
   "cell_type": "code",
   "execution_count": 42,
   "id": "f42948af",
   "metadata": {},
   "outputs": [
    {
     "data": {
      "text/plain": [
       "{'hello': 1,\n",
       " 'how': 1,\n",
       " 'are': 1,\n",
       " 'you': 1,\n",
       " 'good': 1,\n",
       " 'bad': 2,\n",
       " 'testing': 2,\n",
       " 'the': 1,\n",
       " 'text': 3,\n",
       " 'paragraph': 1,\n",
       " 'some': 1}"
      ]
     },
     "execution_count": 42,
     "metadata": {},
     "output_type": "execute_result"
    }
   ],
   "source": [
    "paras=[\"hello how are you good bad\",\"testing the text paragraph\",\"some text bad text testing\"]\n",
    "def convertToWords(para):\n",
    "    #print(para.split(\" \"))\n",
    "    return para.split(\" \")\n",
    "words=[]\n",
    "for i in paras:\n",
    "    words.extend(convertToWords(i))\n",
    "    \n",
    "\n",
    "dict_={}\n",
    "for i in words:\n",
    "    count=0\n",
    "    for j in words:\n",
    "        if i==j:\n",
    "            count+=1\n",
    "    dict_[i]=count\n",
    "    \n",
    "dict_    \n"
   ]
  },
  {
   "cell_type": "code",
   "execution_count": null,
   "id": "fe7f20e6",
   "metadata": {},
   "outputs": [],
   "source": []
  }
 ],
 "metadata": {
  "kernelspec": {
   "display_name": "Python 3",
   "language": "python",
   "name": "python3"
  },
  "language_info": {
   "codemirror_mode": {
    "name": "ipython",
    "version": 3
   },
   "file_extension": ".py",
   "mimetype": "text/x-python",
   "name": "python",
   "nbconvert_exporter": "python",
   "pygments_lexer": "ipython3",
   "version": "3.8.8"
  }
 },
 "nbformat": 4,
 "nbformat_minor": 5
}
